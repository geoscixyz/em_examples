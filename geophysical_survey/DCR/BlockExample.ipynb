{
 "cells": [
  {
   "cell_type": "code",
   "execution_count": 1,
   "metadata": {
    "collapsed": false
   },
   "outputs": [
    {
     "name": "stdout",
     "output_type": "stream",
     "text": [
      "Using matplotlib backend: MacOSX\n",
      "Populating the interactive namespace from numpy and matplotlib\n"
     ]
    },
    {
     "name": "stderr",
     "output_type": "stream",
     "text": [
      "/Users/sgkang/anaconda2/lib/python2.7/site-packages/IPython/core/magics/pylab.py:161: UserWarning: pylab import has clobbered these variables: ['griddata', 'plt']\n",
      "`%matplotlib` prevents importing * from pylab and numpy\n",
      "  \"\\n`%matplotlib` prevents importing * from pylab and numpy\"\n"
     ]
    }
   ],
   "source": [
    "from SimPEG import Mesh, Utils, mkvc, Maps\n",
    "import SimPEG.EM.Static.DC as DC\n",
    "import SimPEG.EM.Static.Utils as StaticUtils\n",
    "import pylab as plt\n",
    "import numpy as np\n",
    "import scipy.sparse as sp\n",
    "from scipy.interpolate import griddata\n",
    "import time\n",
    "import re\n",
    "import numpy.matlib as npm\n",
    "import scipy.interpolate as interpolation\n",
    "from pymatsolver import PardisoSolver\n",
    "import os\n",
    "%pylab"
   ]
  },
  {
   "cell_type": "code",
   "execution_count": 2,
   "metadata": {
    "collapsed": true
   },
   "outputs": [],
   "source": [
    "home_dir = '.'\n",
    "dsep = '/'\n",
    "\n",
    "# Specify survey type\n",
    "# stype = 'dipole-dipole'\n",
    "stype = 'gradient'\n",
    "dtype = 'appConductivity'\n",
    "DOI = False\n",
    "INVERT = False\n",
    "# Survey parameters\n",
    "b = 20 # Tx-Rx seperation\n",
    "a = 20 # Dipole spacing\n",
    "n = 15  # Number of Rx per Tx\n",
    "\n",
    "# Model parameters (background, sphere1, sphere2)\n",
    "sig = np.r_[1e-2, 1e-1, 1e-3]\n",
    "# Centroid of spheres\n",
    "loc = np.c_[[-75., 0., -75.], [75., 0., -75.]]\n",
    "# Radius of spheres\n",
    "radi = np.r_[50.,50.]\n",
    "\n",
    "# Inversion parameter\n",
    "pct = 0.02 # Percent of abs(obs) value\n",
    "flr = 2e-5 # Minimum floor value\n",
    "chifact = 100\n",
    "ref_mod = ([1e-2, 1e-1])\n",
    "\n",
    "# DOI threshold\n",
    "cutoff = 0.8\n",
    "# number of padding cells\n",
    "padc = 0\n",
    "\n",
    "# Plotting param\n",
    "xmin, xmax = -250, 250\n",
    "ymin, ymax = -150, 150\n",
    "zmin, zmax = -125, 25\n",
    "vmin = -2.4771213\n",
    "vmax = -1.4771213\n",
    "depth = 200. # Maximum depth to plot\n",
    "dx_in = 5\n",
    "\n",
    "#`srvy_end = [(-200.  ,  0.), (200.  ,  0.)]\n",
    "srvy_end = [(-225.,  0.), (225.,  0.)]\n",
    "#%% SCRIPT STARTS HERE\n",
    "nx = int(np.abs(srvy_end[0][0] - srvy_end[1][0]) /dx_in * 1.25)\n",
    "ny = nx\n",
    "ny += (ny+1)%2 # Make sure it is odd so the survey is centered\n",
    "\n",
    "nz = int(np.abs( np.min(loc[2,:]) - np.max(radi) )  /dx_in )\n",
    "\n",
    "# Create mesh\n",
    "hxind = [(dx_in,15,-1.3), (dx_in, nx), (dx_in,15,1.3)]\n",
    "hyind = [(dx_in,15,-1.3), (dx_in, int(ny/3)), (dx_in,15,1.3)]\n",
    "hzind = [(dx_in,13,-1.3),(dx_in, nz)]\n",
    "\n",
    "mesh = Mesh.TensorMesh([hxind, hyind, hzind], 'CCN')\n",
    "\n",
    "# Set background conductivity\n",
    "model = np.ones(mesh.nC) * sig[0]"
   ]
  },
  {
   "cell_type": "code",
   "execution_count": 25,
   "metadata": {
    "collapsed": true
   },
   "outputs": [],
   "source": [
    "## SPHERE MODEL\n",
    "## First anomaly\n",
    "#ind = Utils.ModelBuilder.getIndicesSphere(loc[:,0],radi[0],mesh.gridCC)\n",
    "#model[ind] = sig[1]\n",
    "#\n",
    "## Second anomaly\n",
    "#ind = Utils.ModelBuilder.getIndicesSphere(loc[:,1],radi[1],mesh.gridCC)\n",
    "#model[ind] = sig[2]\n",
    "#\n",
    "## Create blocs for pole-dipole\n",
    "#ind = Utils.ModelBuilder.getIndicesBlock(([-150.,-50.,-20]),([-130.,50.,0]),mesh.gridCC)\n",
    "#model[ind] = sig[1]/2.5\n",
    "##\n",
    "#ind = Utils.ModelBuilder.getIndicesBlock(([-20.,-50.,-20]),([0.,50.,0]),mesh.gridCC)\n",
    "#model[ind] = sig[2]\n",
    "##\n",
    "#ind = Utils.ModelBuilder.getIndicesBlock(([125.,-50.,-20]),([145,50.,0]),mesh.gridCC)\n",
    "#model[ind] = sig[1]/5"
   ]
  },
  {
   "cell_type": "code",
   "execution_count": 26,
   "metadata": {
    "collapsed": true
   },
   "outputs": [],
   "source": [
    "## BLOCK MODEL\n",
    "# Create blocs for gradient plot\n",
    "ind = Utils.ModelBuilder.getIndicesBlock(([-25.,-25.,-75]),([25.,25.,-20]),mesh.gridCC)\n",
    "model[ind] = sig[1]\n",
    "\n",
    "ind = Utils.ModelBuilder.getIndicesBlock(([-150.,-10.,-25]),([-130.,10.,0]),mesh.gridCC)\n",
    "model[ind] = sig[1]/2.5\n",
    "#\n",
    "ind = Utils.ModelBuilder.getIndicesBlock(([-70.,-10.,-25]),([-50.,10.,0]),mesh.gridCC)\n",
    "model[ind] = sig[2]\n",
    "#\n",
    "ind = Utils.ModelBuilder.getIndicesBlock(([110.,-10.,-25]),([130.,10.,0]),mesh.gridCC)\n",
    "model[ind] = sig[1]/5.\n",
    "\n",
    "ind = Utils.ModelBuilder.getIndicesBlock(([-140.,-100.,-25]),([-120.,-80.,0]),mesh.gridCC)\n",
    "model[ind] = sig[1]/2.5\n",
    "#\n",
    "ind = Utils.ModelBuilder.getIndicesBlock(([-20.,-20.,-25]),([0.,0.,0]),mesh.gridCC)\n",
    "model[ind] = sig[1]/2.5\n",
    "#\n",
    "ind = Utils.ModelBuilder.getIndicesBlock(([125.,100.,-25]),([145,120.,0]),mesh.gridCC)\n",
    "model[ind] = sig[1]/5\n",
    "\n",
    "ind = Utils.ModelBuilder.getIndicesBlock(([80.,-125.,-25]),([100,-105.,0]),mesh.gridCC)\n",
    "model[ind] = sig[1]/2.5\n",
    "\n",
    "ind = Utils.ModelBuilder.getIndicesBlock(([-110.,80.,-25]),([-90,100.,0]),mesh.gridCC)\n",
    "model[ind] = sig[1]/2.5"
   ]
  },
  {
   "cell_type": "code",
   "execution_count": 27,
   "metadata": {
    "collapsed": true
   },
   "outputs": [],
   "source": [
    "plt.figure()\n",
    "axs = plt.subplot(1,1,1)\n",
    "dat1 = mesh.plotSlice(model, ind=-15, normal='X', grid=False, pcolorOpts={'alpha':0.5}, ax =axs)\n",
    "axs.set_ylim(ymin,ymax)\n",
    "axs.set_xlim(xmin,xmax)\n",
    "plt.gca().set_aspect('equal', adjustable='box')\n",
    "\n",
    "plt.show()"
   ]
  },
  {
   "cell_type": "code",
   "execution_count": 28,
   "metadata": {
    "collapsed": true
   },
   "outputs": [],
   "source": [
    "def plotPoles(survey,stype,axs):\n",
    "    for ss in range(survey.nSrc):\n",
    "        tx = np.c_[survey.srcList[ss].loc]\n",
    "\n",
    "        if stype == 'dipole-dipole':\n",
    "            axs.scatter(tx[0,0],tx[0,2],c='k',s=25)\n",
    "\n",
    "        else:\n",
    "            axs.scatter(tx[0],tx[2],c='k',s=25)\n",
    "\n",
    "    tx = np.c_[survey.srcList[0].loc]\n",
    "\n",
    "    if stype == 'dipole-dipole':\n",
    "        axs.scatter(tx[0,0],tx[0,2],c='r',s=75, marker='v')\n",
    "        axs.scatter(tx[0,1],tx[1,2],c='b',s=75, marker='v')\n",
    "    else:\n",
    "        axs.scatter(tx[0],tx[2],c='r',s=75, marker='v')"
   ]
  },
  {
   "cell_type": "code",
   "execution_count": null,
   "metadata": {
    "collapsed": false
   },
   "outputs": [
    {
     "name": "stderr",
     "output_type": "stream",
     "text": [
      "/Users/sgkang/anaconda2/lib/python2.7/site-packages/ipykernel/__main__.py:17: RuntimeWarning: invalid value encountered in double_scalars\n"
     ]
    }
   ],
   "source": [
    "# Add z coordinate to all survey... assume flat\n",
    "nz = mesh.vectorNz\n",
    "var = np.c_[np.asarray(srvy_end),np.ones(2).T*nz[-1]]\n",
    "\n",
    "# Snap the endpoints to the grid. Easier to create 2D section.\n",
    "indx = Utils.closestPoints(mesh, var )\n",
    "endl = np.c_[mesh.gridCC[indx,0],mesh.gridCC[indx,1],np.ones(2).T*nz[-1]]\n",
    "\n",
    "survey = StaticUtils.gen_DCIPsurvey(endl, mesh, stype, a, b, n)\n",
    "#survey = DC.SurveyDC.Survey(srcList)\n",
    "\n",
    "Tx = StaticUtils.getSrc_locs(survey)\n",
    "\n",
    "dl_len = np.sqrt( np.sum((endl[0,:] - endl[1,:])**2) )\n",
    "dl_x = ( Tx[-1][0] - Tx[0][0] ) / dl_len\n",
    "dl_y = ( Tx[-1][1] - Tx[0][1]  ) / dl_len\n",
    "azm =  np.arctan(dl_y/dl_x)\n",
    "problem = DC.Problem3D_CC(mesh, sigmaMap = Maps.IdentityMap(mesh))\n",
    "problem.Solver = PardisoSolver\n",
    "problem.pair(survey)\n",
    "dpred = survey.dpred(model)"
   ]
  },
  {
   "cell_type": "code",
   "execution_count": null,
   "metadata": {
    "collapsed": true
   },
   "outputs": [],
   "source": []
  }
 ],
 "metadata": {
  "kernelspec": {
   "display_name": "Python [default]",
   "language": "python",
   "name": "python2"
  },
  "language_info": {
   "codemirror_mode": {
    "name": "ipython",
    "version": 2
   },
   "file_extension": ".py",
   "mimetype": "text/x-python",
   "name": "python",
   "nbconvert_exporter": "python",
   "pygments_lexer": "ipython2",
   "version": "2.7.12"
  }
 },
 "nbformat": 4,
 "nbformat_minor": 1
}
